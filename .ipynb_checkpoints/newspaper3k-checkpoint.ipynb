{
 "cells": [
  {
   "cell_type": "code",
   "execution_count": 1,
   "metadata": {},
   "outputs": [],
   "source": [
    "from newspaper import Article"
   ]
  },
  {
   "cell_type": "markdown",
   "metadata": {},
   "source": [
    "#### 記事情報を取得する一連の流れ"
   ]
  },
  {
   "cell_type": "code",
   "execution_count": 2,
   "metadata": {},
   "outputs": [],
   "source": [
    "url = \"https://jp.reuters.com/article/usa-fed-idJPKBN2BB1PV?il=0\""
   ]
  },
  {
   "cell_type": "code",
   "execution_count": 3,
   "metadata": {},
   "outputs": [],
   "source": [
    "article = Article(url)"
   ]
  },
  {
   "cell_type": "code",
   "execution_count": 4,
   "metadata": {},
   "outputs": [],
   "source": [
    "article.download()"
   ]
  },
  {
   "cell_type": "code",
   "execution_count": 5,
   "metadata": {},
   "outputs": [],
   "source": [
    "article.parse()"
   ]
  },
  {
   "cell_type": "markdown",
   "metadata": {},
   "source": [
    "#### 記事の概要取得"
   ]
  },
  {
   "cell_type": "code",
   "execution_count": 6,
   "metadata": {},
   "outputs": [
    {
     "data": {
      "text/plain": [
       "datetime.datetime(2021, 3, 19, 15, 3, 58, tzinfo=tzutc())"
      ]
     },
     "execution_count": 6,
     "metadata": {},
     "output_type": "execute_result"
    }
   ],
   "source": [
    "article.publish_date"
   ]
  },
  {
   "cell_type": "code",
   "execution_count": 7,
   "metadata": {},
   "outputs": [
    {
     "data": {
      "text/plain": [
       "['Reuters Staff']"
      ]
     },
     "execution_count": 7,
     "metadata": {},
     "output_type": "execute_result"
    }
   ],
   "source": [
    "article.authors"
   ]
  },
  {
   "cell_type": "code",
   "execution_count": 8,
   "metadata": {},
   "outputs": [
    {
     "data": {
      "text/plain": [
       "'３月１９日、米連邦準備理事会（ＦＲＢ）は大手行を対象にした自己資本規制である補完的レバレッジ比率（ＳＬＲ）に関する緩和措置を延長せず、期限の３月末で終了すると発表した。写真は２０１８年８月、ワシントンのＦＲＢ（２０２１年 ロイター／Chris Wattie）\\n\\n［ワシントン １９日 ロイター］ - 米連邦準備理事会（ＦＲＢ）は１９日、大手行を対象にした自己資本規制である補完的レバレッジ比率（ＳＬＲ）に関する緩和措置を延長せず、期限の３月末で終了すると発表した。また、同規制が意図どおりに機能していない可能性があるとして見直す考えを示した。\\n\\nＳＬＲ規制の緩和は、新型コロナウイルスの感染拡大に伴い昨年４月に導入。米国債と準備預金をＳＬＲから除外することが認められ、銀行は資本を積まずにバランスシートの拡大が可能となった。今回、特例措置が延長されなかったことで、大手行は規制順守のために米国債の売却を迫られ、長期金利にさらなる上昇圧力がかかる恐れもある。\\n\\nただ、ＦＲＢ当局者らはこの日、米国債市場が安定しているほか、大手行の資本水準も高いとして、特例措置が失効しても流動性が損なわれたり市場に混乱が生じることはないと強調した。\\n\\nＦＲＢの発表を受け、株式市場ではＪＰモルガン・チェース、ウェルズ・ファーゴ、バンク・オブ・アメリカ、シティグループなどの株価が軒並み大幅安。国債市場では１０年債利回りが１．７３５３％に上昇した。\\n\\nＯＡＮＤＡのシニア市場ストラテジスト、エドワード・モヤ氏は「銀行にとって今後より多くの資金を確保せねばならず、銀行株には悪材料」としながらも、最終決定ではなく、見直しが行われることから「安心感も広がるはずだ」と指摘した。\\n\\nＳＬＲ緩和を巡っては銀行業界がＦＲＢに延長を強く促す一方、一部の民主党有力議員らはシステミックリスクの助長につながるとして延長に反対していた。民主党のブラウン上院議員はＦＲＢの決定について、「コロナ禍で甚大な被害を受けた地域に融資をもたらす上での勝利であり、金融システムの安定性にとっての勝利でもある」と語った。'"
      ]
     },
     "execution_count": 8,
     "metadata": {},
     "output_type": "execute_result"
    }
   ],
   "source": [
    "article.text"
   ]
  },
  {
   "cell_type": "code",
   "execution_count": 9,
   "metadata": {},
   "outputs": [
    {
     "data": {
      "text/plain": [
       "'ＦＲＢ、大手行の資本規制緩和を延長せず コロナ特例3月末失効'"
      ]
     },
     "execution_count": 9,
     "metadata": {},
     "output_type": "execute_result"
    }
   ],
   "source": [
    "article.title"
   ]
  },
  {
   "cell_type": "markdown",
   "metadata": {},
   "source": [
    "#### 自然言語処理による要約の取得"
   ]
  },
  {
   "cell_type": "code",
   "execution_count": 14,
   "metadata": {},
   "outputs": [
    {
     "data": {
      "text/plain": [
       "'3.5'"
      ]
     },
     "execution_count": 14,
     "metadata": {},
     "output_type": "execute_result"
    }
   ],
   "source": [
    "nltk.__version__"
   ]
  },
  {
   "cell_type": "code",
   "execution_count": 13,
   "metadata": {},
   "outputs": [
    {
     "name": "stderr",
     "output_type": "stream",
     "text": [
      "[nltk_data] Downloading package punkt to /Users/misakiryo/nltk_data...\n",
      "[nltk_data]   Package punkt is already up-to-date!\n"
     ]
    },
    {
     "data": {
      "text/plain": [
       "True"
      ]
     },
     "execution_count": 13,
     "metadata": {},
     "output_type": "execute_result"
    }
   ],
   "source": [
    "import nltk\n",
    "nltk.download('punkt')"
   ]
  },
  {
   "cell_type": "code",
   "execution_count": 15,
   "metadata": {},
   "outputs": [],
   "source": [
    "article.nlp()"
   ]
  },
  {
   "cell_type": "code",
   "execution_count": 16,
   "metadata": {},
   "outputs": [
    {
     "data": {
      "text/plain": [
       "['３月１９日米連邦準備理事会ｆｒｂは大手行を対象にした自己資本規制である補完的レバレッジ比率ｓｌｒに関する緩和措置を延長せず期限の３月末で終了すると発表した写真は２０１８年８月ワシントンのｆｒｂ２０２１年',\n",
       " 'ロイターchris',\n",
       " 'ロイター',\n",
       " 'wattieワシントン',\n",
       " '１９日',\n",
       " 'ｆｒｂ大手行の資本規制緩和を延長せず',\n",
       " '米連邦準備理事会ｆｒｂは１９日大手行を対象にした自己資本規制である補完的レバレッジ比率ｓｌｒに関する緩和措置を延長せず期限の３月末で終了すると発表したまた同規制が意図どおりに機能していない可能性があるとして見直す考えを示したｓｌｒ規制の緩和は新型コロナウイルスの感染拡大に伴い昨年４月に導入米国債と準備預金をｓｌｒから除外することが認められ銀行は資本を積まずにバランスシートの拡大が可能となった今回特例措置が延長されなかったことで大手行は規制順守のために米国債の売却を迫られ長期金利にさらなる上昇圧力がかかる恐れもあるただｆｒｂ当局者らはこの日米国債市場が安定しているほか大手行の資本水準も高いとして特例措置が失効しても流動性が損なわれたり市場に混乱が生じることはないと強調したｆｒｂの発表を受け株式市場ではｊｐモルガンチェースウェルズファーゴバンクオブアメリカシティグループなどの株価が軒並み大幅安国債市場では１０年債利回りが１７３５３に上昇したｏａｎｄａのシニア市場ストラテジストエドワードモヤ氏は銀行にとって今後より多くの資金を確保せねばならず銀行株には悪材料としながらも最終決定ではなく見直しが行われることから安心感も広がるはずだと指摘したｓｌｒ緩和を巡っては銀行業界がｆｒｂに延長を強く促す一方一部の民主党有力議員らはシステミックリスクの助長につながるとして延長に反対していた民主党のブラウン上院議員はｆｒｂの決定についてコロナ禍で甚大な被害を受けた地域に融資をもたらす上での勝利であり金融システムの安定性にとっての勝利でもあると語った',\n",
       " 'コロナ特例3月末失効']"
      ]
     },
     "execution_count": 16,
     "metadata": {},
     "output_type": "execute_result"
    }
   ],
   "source": [
    "article.keywords"
   ]
  },
  {
   "cell_type": "code",
   "execution_count": 19,
   "metadata": {},
   "outputs": [
    {
     "data": {
      "text/plain": [
       "'３月１９日、米連邦準備理事会（ＦＲＢ）は大手行を対象にした自己資本規制である補完的レバレッジ比率（ＳＬＲ）に関する緩和措置を延長せず、期限の３月末で終了すると発表した。写真は２０１８年８月、ワシントンのＦＲＢ（２０２１年 ロイター／Chris Wattie）［ワシントン １９日 ロイター］ - 米連邦準備理事会（ＦＲＢ）は１９日、大手行を対象にした自己資本規制である補完的レバレッジ比率（ＳＬＲ）に関する緩和措置を延長せず、期限の３月末で終了すると発表した。また、同規制が意図どおりに機能していない可能性があるとして見直す考えを示した。ＳＬＲ規制の緩和は、新型コロナウイルスの感染拡大に伴い昨年４月に導入。米国債と準備預金をＳＬＲから除外することが認められ、銀行は資本を積まずにバランスシートの拡大が可能となった。今回、特例措置が延長されなかったことで、大手行は規制順守のために米国債の売却を迫られ、長期金利にさらなる上昇圧力がかかる恐れもある。ただ、ＦＲＢ当局者らはこの日、米国債市場が安定しているほか、大手行の資本水準も高いとして、特例措置が失効しても流動性が損なわれたり市場に混乱が生じることはないと強調した。ＦＲＢの発表を受け、株式市場ではＪＰモルガン・チェース、ウェルズ・ファーゴ、バンク・オブ・アメリカ、シティグループなどの株価が軒並み大幅安。国債市場では１０年債利回りが１．７３５３％に上昇した。ＯＡＮＤＡのシニア市場ストラテジスト、エドワード・モヤ氏は「銀行にとって今後より多くの資金を確保せねばならず、銀行株には悪材料」としながらも、最終決定ではなく、見直しが行われることから「安心感も広がるはずだ」と指摘した。ＳＬＲ緩和を巡っては銀行業界がＦＲＢに延長を強く促す一方、一部の民主党有力議員らはシステミックリスクの助長につながるとして延長に反対していた。民主党のブラウン上院議員はＦＲＢの決定について、「コロナ禍で甚大な被害を受けた地域に融資をもたらす上での勝利であり、金融システムの安定性にとっての勝利でもある」と語った。'"
      ]
     },
     "execution_count": 19,
     "metadata": {},
     "output_type": "execute_result"
    }
   ],
   "source": [
    "article.summary"
   ]
  },
  {
   "cell_type": "code",
   "execution_count": 21,
   "metadata": {},
   "outputs": [
    {
     "data": {
      "text/plain": [
       "'３月１９日、米連邦準備理事会（ＦＲＢ）は大手行を対象にした自己資本規制である補完的レバレッジ比率（ＳＬＲ）に関する緩和措置を延長せず、期限の３月末で終了すると発表した。写真は２０１８年８月、ワシントンのＦＲＢ（２０２１年 ロイター／Chris Wattie）［ワシントン １９日 ロイター］ - 米連邦準備理事会（ＦＲＢ）は１９日、大手行を対象にした自己資本規制である補完的レバレッジ比率（ＳＬＲ）に関する緩和措置を延長せず、期限の３月末で終了すると発表した。また、同規制が意図どおりに機能していない可能性があるとして見直す考えを示した。ＳＬＲ規制の緩和は、新型コロナウイルスの感染拡大に伴い昨年４月に導入。米国債と準備預金をＳＬＲから除外することが認められ、銀行は資本を積まずにバランスシートの拡大が可能となった。今回、特例措置が延長されなかったことで、大手行は規制順守のために米国債の売却を迫られ、長期金利にさらなる上昇圧力がかかる恐れもある。ただ、ＦＲＢ当局者らはこの日、米国債市場が安定しているほか、大手行の資本水準も高いとして、特例措置が失効しても流動性が損なわれたり市場に混乱が生じることはないと強調した。ＦＲＢの発表を受け、株式市場ではＪＰモルガン・チェース、ウェルズ・ファーゴ、バンク・オブ・アメリカ、シティグループなどの株価が軒並み大幅安。国債市場では１０年債利回りが１．７３５３％に上昇した。ＯＡＮＤＡのシニア市場ストラテジスト、エドワード・モヤ氏は「銀行にとって今後より多くの資金を確保せねばならず、銀行株には悪材料」としながらも、最終決定ではなく、見直しが行われることから「安心感も広がるはずだ」と指摘した。ＳＬＲ緩和を巡っては銀行業界がＦＲＢに延長を強く促す一方、一部の民主党有力議員らはシステミックリスクの助長につながるとして延長に反対していた。民主党のブラウン上院議員はＦＲＢの決定について、「コロナ禍で甚大な被害を受けた地域に融資をもたらす上での勝利であり、金融システムの安定性にとっての勝利でもある」と語った。'"
      ]
     },
     "execution_count": 21,
     "metadata": {},
     "output_type": "execute_result"
    }
   ],
   "source": [
    "article.summary.replace(\"Yn\", \"\")"
   ]
  },
  {
   "cell_type": "code",
   "execution_count": null,
   "metadata": {},
   "outputs": [],
   "source": []
  }
 ],
 "metadata": {
  "kernelspec": {
   "display_name": "Python 3",
   "language": "python",
   "name": "python3"
  },
  "language_info": {
   "codemirror_mode": {
    "name": "ipython",
    "version": 3
   },
   "file_extension": ".py",
   "mimetype": "text/x-python",
   "name": "python",
   "nbconvert_exporter": "python",
   "pygments_lexer": "ipython3",
   "version": "3.8.5"
  }
 },
 "nbformat": 4,
 "nbformat_minor": 4
}

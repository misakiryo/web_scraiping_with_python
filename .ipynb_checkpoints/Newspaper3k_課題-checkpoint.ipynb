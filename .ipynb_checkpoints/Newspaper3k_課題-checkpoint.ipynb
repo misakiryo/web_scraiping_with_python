{
 "cells": [
  {
   "cell_type": "code",
   "execution_count": 3,
   "metadata": {},
   "outputs": [],
   "source": [
    "from newspaper import Article"
   ]
  },
  {
   "cell_type": "code",
   "execution_count": 4,
   "metadata": {},
   "outputs": [],
   "source": [
    "url = 'https://www.yomiuri.co.jp/national/20210323-OYT1T50241/'"
   ]
  },
  {
   "cell_type": "code",
   "execution_count": 5,
   "metadata": {},
   "outputs": [],
   "source": [
    "article = Article(url)"
   ]
  },
  {
   "cell_type": "code",
   "execution_count": 6,
   "metadata": {},
   "outputs": [],
   "source": [
    "article.download()"
   ]
  },
  {
   "cell_type": "code",
   "execution_count": 7,
   "metadata": {},
   "outputs": [],
   "source": [
    "article.parse()"
   ]
  },
  {
   "cell_type": "code",
   "execution_count": 9,
   "metadata": {},
   "outputs": [
    {
     "data": {
      "text/plain": [
       "datetime.datetime(2021, 3, 23, 0, 0)"
      ]
     },
     "execution_count": 9,
     "metadata": {},
     "output_type": "execute_result"
    }
   ],
   "source": [
    "article.publish_date"
   ]
  },
  {
   "cell_type": "code",
   "execution_count": 10,
   "metadata": {},
   "outputs": [
    {
     "data": {
      "text/plain": [
       "[]"
      ]
     },
     "execution_count": 10,
     "metadata": {},
     "output_type": "execute_result"
    }
   ],
   "source": [
    "article.authors"
   ]
  },
  {
   "cell_type": "code",
   "execution_count": 12,
   "metadata": {},
   "outputs": [
    {
     "data": {
      "text/plain": [
       "'無料通信アプリ「ＬＩＮＥ」の利用者情報が業務委託先の中国企業から閲覧可能だった問題で、運営会社のＬＩＮＥは２３日、中国からの個人情報への接続を完全に遮断したと発表した。韓国のデータセンターで保管していた画像データなどの国内移転も今年９月までに進めるとした。\\n\\n出沢剛社長は問題発覚後初めて東京都内で記者会見し、「ユーザーの信頼を裏切ったことを重く受け止めている」と陳謝した。\\n\\n発表によると、中国では、システム開発などを委託した関連会社やメッセージの監視などを委託した企業など計５社で、日本のサーバーにある利用者の氏名や生年月日などの個人情報や、利用者から規約違反と通報があったメッセージが閲覧できた。ＬＩＮＥが手がける金融事業に関して、利用者の個人情報にアクセスできる状態だったことも新たに明らかにした。\\n\\nＬＩＮＥは中国からの接続を２２日までに遮断し、関連業務も全て終了させた。\\n\\n韓国のデータセンターでは、メッセージに添付された画像や動画のほか、スマートフォン向けの決済アプリ「ＬＩＮＥ Ｐａｙ（ラインペイ）」の利用者情報なども保管していた。いずれも厳格に管理しているとしたが、すべてを国内に移す方針を示した。\\n\\nＬＩＮＥの個人情報に関する指針では、外国に個人情報を移転することがあるなどと記載しているが、国名を明記していないなど不十分だったとして、今月中にも指針を改訂するとした。\\n\\n中国は２０１７年に施行された国家情報法で、国の情報活動に企業や国民が協力するよう義務付けている。情報漏えいのリスクについて、出沢社長は「中国で長く（システムなどを）開発しており、潮目の変化を見落としていた。ユーザーへの配慮が足りなかった」と釈明した。\\n\\n親会社のＺホールディングスが設置した第三者委員会の初会合も２３日に開かれた。今回の問題などを検証し、結果を公表するとした。'"
      ]
     },
     "execution_count": 12,
     "metadata": {},
     "output_type": "execute_result"
    }
   ],
   "source": [
    "article.text"
   ]
  },
  {
   "cell_type": "code",
   "execution_count": null,
   "metadata": {},
   "outputs": [],
   "source": []
  }
 ],
 "metadata": {
  "kernelspec": {
   "display_name": "Python 3",
   "language": "python",
   "name": "python3"
  },
  "language_info": {
   "codemirror_mode": {
    "name": "ipython",
    "version": 3
   },
   "file_extension": ".py",
   "mimetype": "text/x-python",
   "name": "python",
   "nbconvert_exporter": "python",
   "pygments_lexer": "ipython3",
   "version": "3.8.5"
  }
 },
 "nbformat": 4,
 "nbformat_minor": 4
}
